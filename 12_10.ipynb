{
 "cells": [
  {
   "cell_type": "markdown",
   "metadata": {},
   "source": [
    "# Sentiment Analysis of the 2016 Presidential Election using Twitter "
   ]
  },
  {
   "cell_type": "markdown",
   "metadata": {},
   "source": [
    "## Introduction\n",
    "\n",
    "The results of the recent presidential election have been polemic and controversial in the U.S and around the world. People are very touched and use social media to express their feelings. What shocks people the most is how inaccurate the polls are as many of them forecasted an easy win for Democratic nominee Hillary Clinton. While data scientists are scrambling to figure out why their prediction models were flawed, a number of social media analytics firms have started to present their own models with data from major social media channels and shown relatively accurate prediction <a href=\"https://techcrunch.com/2016/11/10/social-media-did-a-better-job-at-predicting-trumps-win-than-the-polls/\">[1]</a>.\n",
    "\n",
    "SimplyMeasured saw that social media sentiment towards Donald Trump trended more positively than sentiment towards Hillary Clinton on Election Day <a href=\"http://simplymeasured.com/blog/trump-vs-clinton-the-mood-on-social-before-the-final-debate/#sm.001lbm8v5iyxcv910rc2pyqrjtdgy\">[2]</a>. A similar trend was spotted by the analytics firm 4C insights, which found that Trump had more support on Facebook and Twitter from the beginning of October through November 7th <a href=\"http://www.4cinsights.com/resource/election-night-2016-impact-report/\">[3]</a>. \"Positive sentiment for Trump was 58% to Clinton's 48%\", the firm said <a href=\"http://www.4cinsights.com/resource/election-night-2016-impact-report/\">[4]</a>. And Brandwatch's analysis also found that Trump had more Twitter mentions <a href=\"https://www.brandwatch.com/2016-election-data-viz-social-buzz/\">[5]</a>.\n",
    "\n",
    "To the best of our knowledge, most of the social media analysis models are built upon a time series of data. They are designed to show the trend of positive sentiment for each candidate. None has carried out a geographical analysis yet. In this work, we performed sentiment analysis on tweets from different states of US using the Twitter API and compared our results with the election results of each state. We specifically tried to answer the following questions:\n",
    "\n",
    "* Can we use Twitter data to build a classifier for the 2016 US presidential election?\n",
    "* Are the sentiment analysis results of tweets comparable with true election results?"
   ]
  },
  {
   "cell_type": "markdown",
   "metadata": {},
   "source": [
    "### Libraries "
   ]
  },
  {
   "cell_type": "markdown",
   "metadata": {},
   "source": [
    "For this project, you will use the libraries listed below:"
   ]
  },
  {
   "cell_type": "code",
   "execution_count": 110,
   "metadata": {
    "collapsed": false
   },
   "outputs": [],
   "source": [
    "import tweepy\n",
    "import nltk\n",
    "import itertools\n",
    "from collections import Counter\n",
    "import numpy as np\n",
    "import sys\n",
    "import pandas as pd\n",
    "import re\n",
    "import string\n",
    "from string import digits\n",
    "from nltk.corpus import stopwords\n",
    "import sklearn\n",
    "import matplotlib.pyplot as plt\n",
    "%matplotlib inline\n"
   ]
  },
  {
   "cell_type": "markdown",
   "metadata": {},
   "source": [
    "## Data Collection"
   ]
  },
  {
   "cell_type": "markdown",
   "metadata": {},
   "source": [
    "### 1. Authentication"
   ]
  },
  {
   "cell_type": "markdown",
   "metadata": {},
   "source": [
    "For this project, we will be extracting data from Twitter using the Python library tweepy. Tweepy offers a variety of wrappers around the Twitter API, making it easier for the user to obtain data. The Twitter API has some limitations regarding historical data as it can only extract data from within the past week when searching for hashtags and/or location. However, if you search using each specific user's id, you can obtain his/her historical tweets. In order to overcome this problem, for each state we find users that are currently tweeting about the election and assume that they tweeted during the election time frame as well.  "
   ]
  },
  {
   "cell_type": "markdown",
   "metadata": {},
   "source": [
    "First, we need to authenticate our account."
   ]
  },
  {
   "cell_type": "code",
   "execution_count": 2,
   "metadata": {
    "collapsed": true
   },
   "outputs": [],
   "source": [
    "import tweepy"
   ]
  },
  {
   "cell_type": "code",
   "execution_count": 3,
   "metadata": {
    "collapsed": false
   },
   "outputs": [],
   "source": [
    "consumer_key = 'xO3JGtRSx6V7clVNoAix4OCDc'\n",
    "consumer_secret = 'WYeOlARl7ALx00R31e1wvFmGxas9Osgz3knw6BVyT4OnTNa2it'\n",
    "\n",
    "access_token = \"799674778965528576-Yl1leK8GglVQ2ZWbrBjadRWF0teV7yn\"\n",
    "access_token_secret = \"RerCNtu44oGI1cPUunFr7HkKeRA828LJZFacCIa1CkNuW\"\n",
    "\n",
    "auth = tweepy.OAuthHandler(consumer_key, consumer_secret)\n",
    "auth.set_access_token(access_token, access_token_secret)\n",
    "\n",
    "api = tweepy.API(auth)"
   ]
  },
  {
   "cell_type": "markdown",
   "metadata": {},
   "source": [
    "After our account is authenticated, we can initiate data collection. "
   ]
  },
  {
   "cell_type": "markdown",
   "metadata": {},
   "source": [
    "### 2. Collecting Users By State"
   ]
  },
  {
   "cell_type": "markdown",
   "metadata": {},
   "source": [
    "Let us now collect users by their states. We are going to perform the analysis 24 of the 52 states, including the most critical ones, like Pennsylvania, Florida, Iowa, etc.\n"
   ]
  },
  {
   "cell_type": "markdown",
   "metadata": {},
   "source": [
    "Now for each state, we specify a geographical area with the longitude, latitude and radius within which we are going to select users. After extensively experimenting, we found out that most users live in big cities. In addition, we found the optimum radius for each area. We decided to focus on those areas, and to not skew the data too much towards Clinton, we tried to select smaller cities in each state.  \n",
    "Nonetheless, we expect the data to be skewed towards Clinton."
   ]
  },
  {
   "cell_type": "code",
   "execution_count": 111,
   "metadata": {
    "collapsed": false
   },
   "outputs": [],
   "source": [
    "geocodes = {\n",
    "    'CA': [\"36.7783,-119.4179,40mi\", \"38.167014,-121.723139,30mi\", '35.404784,-118.888667,80mi'],\n",
    "    'TX': [\"32.769732,-96.901585,25mi\", '31.909753,-102.197028,35mi', '33.564888,-101.764114,25mi', '35.210314,-101.725662,25mi', '29.740337,-95.550393,35mi'],\n",
    "    'PA': ['40.467857,-79.914755,35mi', '40.536721,-76.221279,40mi', '41.323314,-75.796996,10mi'],\n",
    "    'AL': ['33.544256,-86.812935,35mi', '30.705623,-88.149418,10mi'],\n",
    "    'MI': ['42.926319,-85.641269,40mi', '42.734965,-84.506931,40mi', '42.306825,-83.628840,35mi'],\n",
    "    'CO': ['38.574031,-104.677154,35mi', '39.714674,-104.917480,30mi'],\n",
    "    'IA': ['42.130077,-93.615018,100mi', '41.914816,-91.417752,25mi'],\n",
    "    'AZ': ['33.100690,-111.938283,80mi'],\n",
    "    'CT': ['41.676914,-72.699829,25mi'],\n",
    "    'DC': ['38.892852,-76.990545,15mi'],\n",
    "    'MO': ['38.747478,-92.286080,40mi', '37.214840,-93.428658,40mi', '39.087678,-94.505237,15mi'],\n",
    "    'NV': ['36.165426,-115.268451,10mi', '39.167750,-119.695674,20mi', '39.584059,-119.742395,15mi'],\n",
    "    'FL': ['25.730290,-80.255068,35mi','28.478014,-81.463564,35mi', '27.964959,-82.309511,20mi'],\n",
    "    'NM': ['35.040469,-106.563015,35mi', '32.310137,-106.869259,20mi'],\n",
    "    'VA': ['37.525185,-77.463871,60mi', '36.851270,-76.167484,75mi'],\n",
    "    'IL': ['41.8781,-87.6298,30mi', '39.7817,-89.6501,20mi'],\n",
    "    'MN': ['44.9778,-93.2650,20mi', '46.7867,-92.1005,10mi'],\n",
    "    'WI': ['43.0731,-89.4012,20mi', '43.0389,-87.9065,20mi', '44.8113,-91.4985,20mi'],\n",
    "    'WA': ['47.6062,-122.3321,50mi','47.6588,-117.4260,50mi', '46.2112,-119.1372,50mi'],\n",
    "    'OR': ['45.5231,-122.6765,80mi','45.5229,-122.9898,80mi'],\n",
    "    'VA': ['37.5407,-77.4360,80mi', '36.4029,-76.5550,60mi'],\n",
    "    'NY': ['43.0481,-76.1474,30mi', '42.8864,-78.8784,20mi', '43.1610,-77.6109,10mi'],\n",
    "    'NJ': ['40.2171,-74.7429,20mi', '40.5549,-74.4643,20mi', '40.816906,-74.210073,20mi'],\n",
    "    'MD': ['39.2904,-76.6122,20mi', '39.4143,-77.4105,20mi'],\n",
    "    'NC': ['35.7796,-78.6382,35mi', '36.0726,-79.7920,30mi'],\n",
    "}"
   ]
  },
  {
   "cell_type": "markdown",
   "metadata": {},
   "source": [
    "Also, probably due to an error in the twitter API, we found out that tweepy sometimes returns users that are not really located in the state we are asking for. Therefore, we will use the following keywords to ensure that locations are within the state we are requesting."
   ]
  },
  {
   "cell_type": "code",
   "execution_count": 112,
   "metadata": {
    "collapsed": true
   },
   "outputs": [],
   "source": [
    "keywords = {'CA' : ['ca', 'los', 'la', 'san', 'bay', 'bev', 'hill', 'wood', 'jos', 'jose', 'dieg'],\n",
    "            'TX' : ['tx', 'tex', 'dall', 'fort', 'worth', 'dallas', 'hous'],\n",
    "            'PA' : ['pitt', 'pa', 'penn', 'scran', 'allen'],\n",
    "            'AL' : ['al', 'birm', 'mobile'],\n",
    "            'MI' : ['mi', 'grand'],\n",
    "            'CO' : ['co', 'spring', 'denver'],\n",
    "            'AZ' : ['az'],\n",
    "            'CT' : ['ct', 'conn'],\n",
    "            'MO' : ['mo', 'miss'],\n",
    "            'NV' : ['nv', 'nev'],\n",
    "            'DC' : ['wash', 'dc'],\n",
    "            'IA' : ['ia', 'io', 'moi',],\n",
    "            'FL' : ['fl', 'mia','orl'],\n",
    "            'NM' : ['nm', \"new\", \"mex\", \"albu\", \"sant\", 'las'],\n",
    "            'VA' : ['va', 'virgi', 'rich', 'norf', 'beach'],\n",
    "            'IL' : ['il', 'chic', 'evan', 'spring'],\n",
    "            'MN' : ['mn', 'st', 'paul', 'minn'],\n",
    "            'WI' : ['wi', 'eau', 'milw', 'madi'],\n",
    "            'WA' : ['seat', 'wa'],\n",
    "            'OR' : ['port', 'or'],\n",
    "            \"NY\" : ['ny', \"new\", \"york\"],\n",
    "            'NJ' : ['nj', 'pater', 'jers', \"newa\"],\n",
    "            'MD' : ['md', \"mary\"],\n",
    "            'NC' : ['nc', 'north', 'caro'],\n",
    "           }"
   ]
  },
  {
   "cell_type": "markdown",
   "metadata": {},
   "source": [
    "Then for each state, we collect users that recently tweeted about the election. We will assume that they also tweeted during election week.  \n",
    "We already collected the users and placed them in a csv file. But here is an example of how we did it.\n"
   ]
  },
  {
   "cell_type": "code",
   "execution_count": 208,
   "metadata": {
    "collapsed": false
   },
   "outputs": [],
   "source": [
    "# TWEETS FROM TEXAS\n",
    "state = 'TX'\n",
    "qs = ['trump'] # '#election2016', '#hillary', '#electionnight', '#electionday']\n",
    "users = set()\n",
    "for q in qs:\n",
    "    for i in range(len(geocodes[state])):\n",
    "        places = tweepy.Cursor(api.search, q=q, geocode=geocodes[state][i])\n",
    "        for page in places.pages(20):\n",
    "            for tweet in page:\n",
    "                loc, name = tweet.user.location.lower(), tweet.user.screen_name\n",
    "                for kw in keywords[state]:\n",
    "                    if kw in loc:\n",
    "                        users.add((tweet.user.screen_name, tweet.user.location))"
   ]
  },
  {
   "cell_type": "code",
   "execution_count": 209,
   "metadata": {
    "collapsed": false
   },
   "outputs": [
    {
     "name": "stdout",
     "output_type": "stream",
     "text": [
      "330\n",
      "tejano611 Odessa Texas\n",
      "wonugames Houston TX\n",
      "Students4Trump8 Dallas, TX\n",
      "darnellsmith Lewisville, TX\n",
      "donaldacrey Amarillo, TX\n",
      "Brycedrums  Arlington TX\n",
      "I_AM_USA_ Texas City, TX\n",
      "AulusPaulinus Fort Worth, TX\n",
      "aspronin Houston Tx\n",
      "commander_allen Dallas, TX\n",
      "MyInfo34713423 Amarillo, TX\n",
      "BLifeSMU University Park, Dallas, TX\n",
      "MissCaffWriter Kaufman, TX\n",
      "msnightwriter Odessa, TX\n",
      "TexasCorn Lubbock, Texas\n",
      "gpfactor1953 Cedar Hill, TX\n",
      "Coeleborn Lubbock, TX\n",
      "nemawmawmaw Amarillo, TX\n",
      "prettyjahi Desoto, TX\n",
      "Kohuneh Houston, TX\n",
      "_ZacharyMiller Fort Worth, TX\n",
      "lildg54 West University Place, TX\n",
      "CptBud Amarillo, Texas\n",
      "CassaundraMann7 Amarillo, TX\n",
      "docrocktex26 Houston, TX\n"
     ]
    }
   ],
   "source": [
    "print len(users)\n",
    "for u, loc in list(users)[:25]:\n",
    "    print u, loc"
   ]
  },
  {
   "cell_type": "code",
   "execution_count": 210,
   "metadata": {
    "collapsed": false
   },
   "outputs": [],
   "source": [
    "df_dict = {\n",
    "    'screen_name' : map(lambda x: x[0], users),\n",
    "    'location'    : state\n",
    "}\n",
    "\n",
    "user_df = pd.DataFrame.from_dict(df_dict)\n",
    "user_df.to_csv(\"filename.csv\", header=False, mode='a')"
   ]
  },
  {
   "cell_type": "markdown",
   "metadata": {},
   "source": [
    "### 3. Collecting Training Data"
   ]
  },
  {
   "cell_type": "markdown",
   "metadata": {},
   "source": [
    "Tweepy has some limitations. One of them is that it doesn't allow to extract tweets in a specific time range. However, we have found some code in Github that allows to specify a time frame to extract tweets. The code can be found <a href=\"https://github.com/Jefferson-Henrique/GetOldTweets-python\">here</a>."
   ]
  },
  {
   "cell_type": "markdown",
   "metadata": {},
   "source": [
    "The code below is to extract 1500 tweets from the night of the election by searching **Trump** or **Clinton** in the tweets using the library of the link above. But the data extracted was skewed towards Clinton which led to low prediction accuracy. Therefore, we searched for 500 tweets for each of the following hashtags: **#MakeAmericaGreat**, **#IamWithHer** and **#electionNight**. By using this approach, the data is more balanced between the two candidates."
   ]
  },
  {
   "cell_type": "code",
   "execution_count": 96,
   "metadata": {
    "collapsed": false
   },
   "outputs": [],
   "source": [
    "import TweetCriteria as tc\n",
    "import TweetManager as tm"
   ]
  },
  {
   "cell_type": "code",
   "execution_count": 11,
   "metadata": {
    "collapsed": false
   },
   "outputs": [],
   "source": [
    "import csv\n",
    "writefile = open(\"training.csv\", \"wb\")\n",
    "outputfile = csv.writer(writefile)\n",
    "\n",
    "tweetCriteria = tc.TweetCriteria().setQuerySearch('#MakeAmericaGreat').setSince('2016-11-09').setUntil('2016-11-10').setMaxTweets(500)\n",
    "tweet = tm.TweetManager().getTweets(tweetCriteria)\n",
    "for tw in tweet:\n",
    "    # Encoding is required since the tw.text is a unicode string\n",
    "    outputfile.writerow([tw.text.encode('ascii','ignore'), tw.date])"
   ]
  },
  {
   "cell_type": "markdown",
   "metadata": {},
   "source": [
    "In order to ensure that the code implemented above is reliable, we have validated these tweets with the tweets obtained using Tweepy. \n",
    "\n",
    "After that, the tweets are manually labeled as 0, 1, 2 for neutral, Trump and Clinton, respectively. These tweets are then saved in a csv file called **\"trainingfinal.csv\"**.\n",
    "\n",
    "Now let's do some pre-processing."
   ]
  },
  {
   "cell_type": "markdown",
   "metadata": {},
   "source": [
    "## Data Pre-processing"
   ]
  },
  {
   "cell_type": "markdown",
   "metadata": {},
   "source": [
    "First, we load the data."
   ]
  },
  {
   "cell_type": "code",
   "execution_count": 117,
   "metadata": {
    "collapsed": false,
    "scrolled": false
   },
   "outputs": [],
   "source": [
    "data = pd.read_csv('trainingfinal.csv', header=None)\n",
    "train = np.array([str(tweet) for tweet in data[1]])\n",
    "label = data[0]"
   ]
  },
  {
   "cell_type": "markdown",
   "metadata": {},
   "source": [
    "We would like to parse each tweet into separate words and tokenize them. We used the nltk package to tokenize and we  removed all the noises. This includes removing \"@somebody\", URLs, numbers, stopwords, punctuations and capitalization in each tweet."
   ]
  },
  {
   "cell_type": "code",
   "execution_count": 118,
   "metadata": {
    "collapsed": false
   },
   "outputs": [],
   "source": [
    "def process(text, lemmatizer=nltk.stem.wordnet.WordNetLemmatizer()):\n",
    "    '''\n",
    "        input:\n",
    "            text: a string corresponding to one tweet\n",
    "            lemmatizer: default is nltk.stem.wordnet.WordNetLemmatizer()\n",
    "        output:\n",
    "            result: a list of tokenized words\n",
    "    '''\n",
    "#     Remove numbers\n",
    "    text = text.translate(None, digits)\n",
    "    # Normalizes case\n",
    "    text = text.lower()\n",
    "    # remove apostrophes, delete 's\n",
    "    text = text.replace(\"'s\", '')\n",
    "    text = text.replace(\"'\", '')\n",
    "    # Remove @ and URLs\n",
    "    text = re.sub('@\\w+\\s', '', text)\n",
    "    text = re.sub('(http|http).*$', '', text)\n",
    "    # Remove punctuations\n",
    "    for char in string.punctuation:\n",
    "        text = text.replace(char, ' ')\n",
    "    # Tokenize the tweet\n",
    "    result = []\n",
    "    for word in nltk.tokenize.word_tokenize(text):\n",
    "        # Remove stopwords\n",
    "        if word not in stopwords.words('english'):\n",
    "            try:\n",
    "                result.append(lemmatizer.lemmatize(word))\n",
    "            except Exception:\n",
    "                pass\n",
    "    return result"
   ]
  },
  {
   "cell_type": "markdown",
   "metadata": {},
   "source": [
    "After pre-processing the words from each tweet are joined back together as one string."
   ]
  },
  {
   "cell_type": "code",
   "execution_count": 119,
   "metadata": {
    "collapsed": false
   },
   "outputs": [],
   "source": [
    "processed_tweets = map(lambda tw: ' '.join(process(tw)), train)"
   ]
  },
  {
   "cell_type": "code",
   "execution_count": 120,
   "metadata": {
    "collapsed": false
   },
   "outputs": [
    {
     "name": "stdout",
     "output_type": "stream",
     "text": [
      "Example sentence after tokenizing: \n",
      "electionnight\n",
      "moving makeamericagreat\n",
      "liked vid trump liberal put deal trumpwins imwithher\n",
      "little brother attends brophy lmao gunna long day makeamericagreat\n",
      "butt hurt trump well u said pack shit go trump makeamericagreat\n"
     ]
    }
   ],
   "source": [
    "print \"Example sentence after tokenizing: \"\n",
    "for i in range(5, 10):\n",
    "    print processed_tweets[i]"
   ]
  },
  {
   "cell_type": "code",
   "execution_count": 121,
   "metadata": {
    "collapsed": false
   },
   "outputs": [
    {
     "name": "stdout",
     "output_type": "stream",
     "text": [
      "1442\n",
      "Trump Supporter 569\n",
      "Clinton Supporter 551\n",
      "Neutral 322\n"
     ]
    }
   ],
   "source": [
    "print len(processed_tweets)\n",
    "print \"Trump Supporter\", len(label[label == 1])\n",
    "print \"Clinton Supporter\", len(label[label == 2])\n",
    "print \"Neutral\", len(label[label == 0])"
   ]
  },
  {
   "cell_type": "markdown",
   "metadata": {},
   "source": [
    "## Modeling"
   ]
  },
  {
   "cell_type": "markdown",
   "metadata": {},
   "source": [
    "### 1. First divide the training data into training and development set\n",
    "\n",
    "Because the tweets are totally random, we simply split them and used the first 70% as the training set and the last 30% as the development set."
   ]
  },
  {
   "cell_type": "code",
   "execution_count": 122,
   "metadata": {
    "collapsed": false
   },
   "outputs": [],
   "source": [
    "n = int(.7 * len(processed_tweets))\n",
    "train_tweet = processed_tweets[:n]\n",
    "dev_tweet = processed_tweets[n: ]\n",
    "train_label = label[:n]\n",
    "dev_label = label[n:]"
   ]
  },
  {
   "cell_type": "markdown",
   "metadata": {},
   "source": [
    "### 2. SVM Classifier"
   ]
  },
  {
   "cell_type": "markdown",
   "metadata": {},
   "source": [
    "On the following code, we estimated the best parameters for the SVM classifier by experimenting with different kernel types and regularization term. "
   ]
  },
  {
   "cell_type": "code",
   "execution_count": 123,
   "metadata": {
    "collapsed": false
   },
   "outputs": [
    {
     "name": "stdout",
     "output_type": "stream",
     "text": [
      "rbf 100.0 0.709006928406\n",
      "rbf 1000.0 0.854503464203\n",
      "rbf 10000.0 0.84064665127\n",
      "rbf 100000.0 0.849884526559\n",
      "linear 100.0 0.842956120092\n",
      "linear 1000.0 0.84064665127\n",
      "linear 10000.0 0.84064665127\n",
      "linear 100000.0 0.84064665127\n",
      "sigmoid 100.0 0.390300230947\n",
      "sigmoid 1000.0 0.390300230947\n",
      "sigmoid 10000.0 0.390300230947\n",
      "sigmoid 100000.0 0.390300230947\n",
      "poly 100.0 0.390300230947\n",
      "poly 1000.0 0.390300230947\n",
      "poly 10000.0 0.390300230947\n",
      "poly 100000.0 0.390300230947\n"
     ]
    }
   ],
   "source": [
    "from sklearn import svm\n",
    "# Remove the stopwords and create the features\n",
    "stopwords = nltk.corpus.stopwords.words('english') \n",
    "vectorizer = sklearn.feature_extraction.text.TfidfVectorizer(stop_words=stopwords)\n",
    "X = vectorizer.fit_transform(train_tweet)\n",
    "X_dev = vectorizer.transform(dev_tweet)\n",
    "\n",
    "# Train both classifiers\n",
    "for kernel in ['rbf', 'linear', 'sigmoid', 'poly']:\n",
    "    for C in [1e2, 1e3, 1e4, 1e5]:\n",
    "        clf_svm = svm.SVC(kernel=kernel, C=C)\n",
    "        clf_svm.fit(X, train_label)\n",
    "        print kernel, C, clf_svm.score(X_dev, list(dev_label))\n",
    "    "
   ]
  },
  {
   "cell_type": "markdown",
   "metadata": {},
   "source": [
    "Based on the above results, the best kernel type is **rbf** and the best C is **1e3**.\n",
    "\n",
    "Let's train the classifier with these optimum parameters."
   ]
  },
  {
   "cell_type": "code",
   "execution_count": 124,
   "metadata": {
    "collapsed": false
   },
   "outputs": [
    {
     "data": {
      "text/plain": [
       "SVC(C=1000.0, cache_size=200, class_weight=None, coef0=0.0,\n",
       "  decision_function_shape=None, degree=3, gamma='auto', kernel='rbf',\n",
       "  max_iter=-1, probability=False, random_state=None, shrinking=True,\n",
       "  tol=0.001, verbose=False)"
      ]
     },
     "execution_count": 124,
     "metadata": {},
     "output_type": "execute_result"
    }
   ],
   "source": [
    "X = vectorizer.fit_transform(processed_tweets)\n",
    "clf_svm = svm.SVC(kernel = 'rbf', C = 1e3)\n",
    "clf_svm.fit(X, label)"
   ]
  },
  {
   "cell_type": "code",
   "execution_count": 125,
   "metadata": {
    "collapsed": false
   },
   "outputs": [
    {
     "name": "stdout",
     "output_type": "stream",
     "text": [
      "all for Clinton 0.378752886836\n",
      "all for Trump 0.390300230947\n"
     ]
    }
   ],
   "source": [
    "print \"all for Clinton\", len([a for a in dev_label if a == 2]) / float(len(dev_label))\n",
    "print \"all for Trump\", len([a for a in dev_label if a == 1]) / float(len(dev_label))"
   ]
  },
  {
   "cell_type": "markdown",
   "metadata": {},
   "source": [
    "### 3. Naive Bayes Classifier"
   ]
  },
  {
   "cell_type": "code",
   "execution_count": 132,
   "metadata": {
    "collapsed": false
   },
   "outputs": [
    {
     "data": {
      "text/plain": [
       "0.75057736720554269"
      ]
     },
     "execution_count": 132,
     "metadata": {},
     "output_type": "execute_result"
    }
   ],
   "source": [
    "from sklearn.naive_bayes import MultinomialNB\n",
    "X = vectorizer.fit_transform(train_tweet)\n",
    "X_dev = vectorizer.transform(dev_tweet)\n",
    "clf_nb = MultinomialNB()\n",
    "clf_nb.fit(X, train_label)\n",
    "clf_nb.score(X_dev, list(dev_label))\n"
   ]
  },
  {
   "cell_type": "markdown",
   "metadata": {},
   "source": [
    "Since the Naive Bayes classifier had a lower accuracy, we decided to use the SVM classifier with its optimum parameters to make predictions"
   ]
  },
  {
   "cell_type": "markdown",
   "metadata": {
    "collapsed": false
   },
   "source": [
    "## Predicting Supporters in Each State\n",
    "\n",
    "We now have all the tools required to find the affiliation of each user for each state.\n",
    "\n",
    "First collect users by state from the csv file we created."
   ]
  },
  {
   "cell_type": "code",
   "execution_count": 194,
   "metadata": {
    "collapsed": false
   },
   "outputs": [
    {
     "name": "stdout",
     "output_type": "stream",
     "text": [
      "['CA' 'TX' 'PA' 'AL' 'MI' 'CO' 'AZ' 'CT' 'MO' 'NV' 'DC' 'IA' 'FL' 'NM' 'VA'\n",
      " 'WA' 'OR' 'MN' 'IL' 'WI' 'NY' 'NJ' 'MD' 'NC']\n"
     ]
    }
   ],
   "source": [
    "users_df = pd.read_csv('clean_users.csv')\n",
    "users_by_state = dict()\n",
    "for state in keywords:\n",
    "    users_by_state[state] = list(set(list(users_df['screen_name'][users_df['location'] == state])))\n",
    "    \n",
    "print users_df['location'].unique()"
   ]
  },
  {
   "cell_type": "markdown",
   "metadata": {},
   "source": [
    "Then we defined a **find_affiliation** function. Given all the tweets of a user, it returns *Trump* if there are more pro-trump tweets, *Clinton* if there are more pro-clinton tweets, *Other* if there are an equal number of them."
   ]
  },
  {
   "cell_type": "code",
   "execution_count": 195,
   "metadata": {
    "collapsed": false
   },
   "outputs": [],
   "source": [
    "def find_affiliation(clf, vectorizer, tweets):\n",
    "    ret = clf.predict(vectorizer.transform(tweets))\n",
    "    trump = sum(ret == 1)\n",
    "    clinton = sum(ret == 2)\n",
    "    if trump > clinton:\n",
    "        return \"Trump\"\n",
    "    elif clinton > trump:\n",
    "        return \"Clinton\"\n",
    "    else:\n",
    "        return \"Other\""
   ]
  },
  {
   "cell_type": "markdown",
   "metadata": {},
   "source": [
    "Now that we have the **find_affiliation** function we can find the number of users that support each candidate."
   ]
  },
  {
   "cell_type": "code",
   "execution_count": 196,
   "metadata": {
    "collapsed": true
   },
   "outputs": [],
   "source": [
    "# PREDICTIONS IN TEXAS\n",
    "def predict_state(clf, vectorizer, users_by_state, affiliations, state=\"TX\"):\n",
    "    affiliations[state] = dict()\n",
    "    affiliations[state]['Trump'] = 0\n",
    "    affiliations[state]['Clinton'] = 0\n",
    "    affiliations[state]['Other'] = 0\n",
    "    for name in users_by_state[state]:\n",
    "        tweetCriteria = tc.TweetCriteria().setUsername(name).setQuerySearch('election').setSince(\"2016-11-09\").setUntil('2016-11-11').setMaxTweets(100)\n",
    "        tweet = tm.TweetManager().getTweets(tweetCriteria)\n",
    "        if tweet:\n",
    "            aff = find_affiliation(clf, vectorizer,\n",
    "                    map(lambda tw: tw.text, tweet))\n",
    "            affiliations[state][aff] += 1\n",
    "        else:\n",
    "            affiliations[state]['Other'] += 1"
   ]
  },
  {
   "cell_type": "markdown",
   "metadata": {
    "collapsed": false
   },
   "source": [
    "Here is the code that performs the classification for each state. It takes a lot of time to run and therefore we stored the result in a dictionnary to avoid multiple runs."
   ]
  },
  {
   "cell_type": "code",
   "execution_count": null,
   "metadata": {
    "collapsed": false
   },
   "outputs": [],
   "source": [
    "aff = dict()\n",
    "for state in keywords:\n",
    "    predict_state(clf_svm, vectorizer, users_by_state, aff, state)\n",
    "    print state, aff[state]"
   ]
  },
  {
   "cell_type": "markdown",
   "metadata": {
    "collapsed": true
   },
   "source": [
    "```python\n",
    "results = {\n",
    "    'VA': {'Other': 72, 'Clinton': 12, 'Trump': 22},\n",
    "    'CO': {'Other': 82, 'Clinton': 15, 'Trump': 13},\n",
    "    'NM': {'Other': 146, 'Clinton': 10, 'Trump': 25},\n",
    "    'TX': {'Other': 344, 'Clinton': 45, 'Trump': 66},\n",
    "    'CA': {'Other': 221, 'Clinton': 31, 'Trump': 42},\n",
    "    'MN': {'Other': 128, 'Clinton': 20, 'Trump': 14},\n",
    "    'MI': {'Other': 176, 'Clinton': 25, 'Trump': 41},\n",
    "    'AL': {'Other': 106, 'Clinton': 15, 'Trump': 22},\n",
    "    'WI': {'Other': 162, 'Clinton': 29, 'Trump': 27},\n",
    "    'DC': {'Other': 21, 'Clinton': 8, 'Trump': 4},\n",
    "    'PA': {'Other': 160, 'Clinton': 44, 'Trump': 49},\n",
    "    'IL': {'Other': 121, 'Clinton': 20, 'Trump': 20},\n",
    "    'OR': {'Other': 137, 'Clinton': 18, 'Trump': 12},\n",
    "    'IA': {'Other': 146, 'Clinton': 17, 'Trump': 31},\n",
    "    'WA': {'Other': 131, 'Clinton': 22, 'Trump': 22},\n",
    "    'AZ': {'Other': 57, 'Clinton': 18, 'Trump': 24},\n",
    "    'FL': {'Other': 150, 'Clinton': 33, 'Trump': 44},\n",
    "    'MD': {'Other': 146, 'Clinton': 16, 'Trump': 34},\n",
    "    'NJ': {'Other': 100, 'Clinton': 11, 'Trump': 21},\n",
    "    'NC': {'Other': 223, 'Clinton': 25, 'Trump':27},\n",
    "    'MO': {'Other': 148, 'Clinton': 25, 'Trump': 30},\n",
    "    'NV': {'Other': 113, 'Clinton': 17, 'Trump': 40},\n",
    "    'CT': {'Other': 83, 'Clinton': 11, 'Trump': 27},\n",
    "    'NY': {'Other': 162, 'Clinton': 42, 'Trump': 42},\n",
    "}\n",
    "```"
   ]
  },
  {
   "cell_type": "markdown",
   "metadata": {},
   "source": [
    "## Analysis of Results\n",
    "Based on the above results, we can see that Trump was predicted as the winner for most of the states selected. \n",
    "\n",
    "The first explanation we can give is the limitations on the tools we used. It was indeed hard to select users that tweeted during election time frame, had to make perhaps invalid assumptions and had to combine different APIs in order to collect users, the tweets of those users and the training data.\n",
    "\n",
    "For some states like California and Washington, we believe that another reason is the fact that more people were tweeting about Trump's victory after the election night, which might have confused the classifier. Also, after the results were released, some of the Trump supporters were probably more open about their views than Clinton Supporters.   \n",
    "Another explanation for our results to be biased towards Trump can be the sample population obtained to test the classifier. Even though we extracted about 200 users/state, most of them did not tweet during the election which reduced the sample size. "
   ]
  },
  {
   "cell_type": "markdown",
   "metadata": {
    "collapsed": false,
    "scrolled": true
   },
   "source": [
    "Here is the map of our prediction.\n",
    "<p>\n",
    "<img src=\"https://raw.githubusercontent.com/TianhongBu/DataScience/master/updated_svm.png\" width=\"700\" height=\"500\"/>\n",
    "</p>"
   ]
  },
  {
   "cell_type": "markdown",
   "metadata": {
    "collapsed": true
   },
   "source": [
    "Here is the real map of the corresponding states\n",
    "<p>\n",
    "<img src=\"https://raw.githubusercontent.com/TianhongBu/DataScience/master/REAL_map.png\" width=\"700\" height=\"500\"/>\n",
    "</p>"
   ]
  },
  {
   "cell_type": "markdown",
   "metadata": {},
   "source": [
    "Now let's go into more details into some of the state."
   ]
  },
  {
   "cell_type": "code",
   "execution_count": 106,
   "metadata": {
    "collapsed": false
   },
   "outputs": [],
   "source": [
    "real_results = {'NY': [61.0, 39.0], \"CO\": [51.6, 48.4], \"PA\": [49.4, 50.6]}\n",
    "predicted_results = {\"NY\": [50.0, 50.0], 'CO': [53.6, 46.4], 'PA': [47.3, 52.7]}\n",
    "# Some of this code comes from: http://matplotlib.org/examples/api/barchart_demo.html\n",
    "def plot_state(state):\n",
    "    actual = real_results[state][0]\n",
    "    actual1 = real_results[state][1]\n",
    "    predicted = predicted_results[state][0]\n",
    "    predicted1 = predicted_results[state][1]\n",
    "    \n",
    "    fig = plt.figure(figsize=(8, 6))\n",
    "    ax = fig.add_subplot(111)\n",
    "\n",
    "    ## the data\n",
    "    N = 1\n",
    "\n",
    "    ## necessary variables\n",
    "    ind = np.arange(N)\n",
    "    width = 0.35\n",
    "\n",
    "    ## the bars\n",
    "    rects1 = ax.bar(ind, actual, width,\n",
    "                    color='blue')\n",
    "\n",
    "    rects2 = ax.bar(ind+width, predicted, width,\n",
    "                        color='lightsteelblue',\n",
    "                        hatch = '/')\n",
    "\n",
    "    rects3 = ax.bar(ind+width*3, actual1, width,\n",
    "                        color='red')\n",
    "\n",
    "    rects4 = ax.bar(ind+width*4, predicted1, width,\n",
    "                        color='lightcoral',\n",
    "                        hatch = '/')\n",
    "    # axes and labels\n",
    "    ax.set_xlim(-width,len(ind)+width*3)\n",
    "    ax.set_ylim(0,80)\n",
    "    ax.set_ylabel('Votes (%)')\n",
    "    ax.set_title('New York Results')\n",
    "    xTickMarks = ['Clinton', 'Trump']\n",
    "    ax.set_xticks((ind+width, ind+width*4))\n",
    "    xtickNames = ax.set_xticklabels(xTickMarks)\n",
    "    plt.setp(xtickNames, fontsize=10)\n",
    "\n",
    "    ## add a legend\n",
    "    ax.legend( (rects1[0], rects2[0], rects3[0], rects4[0]), ('Actual', 'Predicted', 'Actual', 'Predicted') )\n",
    "    plt.show()\n"
   ]
  },
  {
   "cell_type": "markdown",
   "metadata": {},
   "source": [
    "### New York"
   ]
  },
  {
   "cell_type": "code",
   "execution_count": 107,
   "metadata": {
    "collapsed": false
   },
   "outputs": [
    {
     "data": {
      "image/png": "[encoded data removed]",
      "text/plain": [
       "<matplotlib.figure.Figure at 0xecf5390>"
      ]
     },
     "metadata": {},
     "output_type": "display_data"
    }
   ],
   "source": [
    "plot_state(\"NY\")"
   ]
  },
  {
   "cell_type": "markdown",
   "metadata": {},
   "source": [
    "We know that most Clinton supporters are in New York City, but the twitter API made it difficult to collect enough users due to the location and size of the state. We thus had to collect tweets from smaller cities such as Rochester and Buffalo that are generally more diverse. This is probably why we have a tie in New York.\n",
    "We had a similar issue in New Jersey. This also made it nearly impossible for us to collect enough tweets from the East Coast.\n",
    "\n",
    "Nonetheless we can't really explain why the classifier fails in California. We did not encounter any problem collecting the data and yet we made incorrect predictions. Figuring this out would be interesting future work."
   ]
  },
  {
   "cell_type": "markdown",
   "metadata": {},
   "source": [
    "### Pennsylvania"
   ]
  },
  {
   "cell_type": "code",
   "execution_count": 108,
   "metadata": {
    "collapsed": false
   },
   "outputs": [
    {
     "data": {
      "image/png": "[encoded data removed]",
      "text/plain": [
       "<matplotlib.figure.Figure at 0xcb40cc0>"
      ]
     },
     "metadata": {},
     "output_type": "display_data"
    }
   ],
   "source": [
    "plot_state(\"PA\")"
   ]
  },
  {
   "cell_type": "markdown",
   "metadata": {},
   "source": [
    "As you can see, the results in Pennsylvania correspond almost perfectly to reality. This is due to the fact that we had no problem collecting a lot of tweets from a big city like Pittsburgh and from smaller cities such as Scranton and Allentown. This allows us to have a more representative sample."
   ]
  },
  {
   "cell_type": "markdown",
   "metadata": {},
   "source": [
    "### Colorado"
   ]
  },
  {
   "cell_type": "code",
   "execution_count": 109,
   "metadata": {
    "collapsed": false
   },
   "outputs": [
    {
     "data": {
      "image/png": "[encoded data removed]",
      "text/plain": [
       "<matplotlib.figure.Figure at 0xed8e2e8>"
      ]
     },
     "metadata": {},
     "output_type": "display_data"
    }
   ],
   "source": [
    "plot_state(\"PA\")"
   ]
  },
  {
   "cell_type": "markdown",
   "metadata": {},
   "source": [
    "Here again, the predictions were relatively correct. This can also be explained by the ease with which we collected tweets from both small and big cities and how representative our sample was."
   ]
  },
  {
   "cell_type": "markdown",
   "metadata": {},
   "source": [
    "## Conclusions"
   ]
  },
  {
   "cell_type": "markdown",
   "metadata": {},
   "source": [
    "This project trained a SVM classifier for sentiment analysis on tweets extracted randomly using the Python library Tweepy. The purpose of training this classifier was to predict the presidential candidates Clinton and Trump for different states across the U.S. Tweepy has some limitations when extracting old tweets for a specific location. In order to overcome this problem, another library named \"GetOldTweets\" was used. The results showed that the classifier poorly predicted most of the states where Clinton won. We believed that this problem comes from difficulties when collecting data from big cities, which forced us to search into smaller cities. In addition, since the training set and test sets come from different sources, this probably increased the noise in our data.\n",
    "\n",
    "Our overall results are loosely related to the actual results, but they show that Twitter contains enough data to build socio-political models. It would be interesting to know what kind of results better tools could have produced."
   ]
  },
  {
   "cell_type": "markdown",
   "metadata": {},
   "source": [
    "## References\n",
    "1. <a href=\"https://techcrunch.com/2016/11/10/social-media-did-a-better-job-at-predicting-trumps-win-than-the-polls/\">techcrunch: Analysis of social media did a better job at predicting Trump's win than the polls</a>\n",
    "2. <a href=\"http://simplymeasured.com/blog/trump-vs-clinton-the-mood-on-social-before-the-final-debate/#sm.001lbm8v5iyxcv910rc2pyqrjtdgy\">simplymeasured.com: Trump vs Clinton the mood on social before the final debate</a>\n",
    "3. <a href=\"http://simplymeasured.com/blog/trump-vs-clinton-the-mood-on-social-before-the-final-debate/#sm.001lbm8v5iyxcv910rc2pyqrjtdgy\">simplymeasured.com: Trump vs Clinton the mood on social before the final debate</a>\n",
    "4. <a href=\"http://www.4cinsights.com/resource/election-night-2016-impact-report/\">4cinsights: Election night 2016 impact report</a>\n",
    "5. <a href=\"https://www.brandwatch.com/2016-election-data-viz-social-buzz/\">brandwatch: 2016-election data viz social buzz</a>"
   ]
  }
 ],
 "metadata": {
  "anaconda-cloud": {},
  "kernelspec": {
   "display_name": "Python [Root]",
   "language": "python",
   "name": "Python [Root]"
  },
  "language_info": {
   "codemirror_mode": {
    "name": "ipython",
    "version": 2
   },
   "file_extension": ".py",
   "mimetype": "text/x-python",
   "name": "python",
   "nbconvert_exporter": "python",
   "pygments_lexer": "ipython2",
   "version": "2.7.12"
  }
 },
 "nbformat": 4,
 "nbformat_minor": 0
}
